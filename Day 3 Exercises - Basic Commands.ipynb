{
 "cells": [
  {
   "cell_type": "raw",
   "metadata": {},
   "source": [
    "# EX 1 please print out below\n",
    "# Your name, age , and what you want from this course\n",
    "# print out your major or your favorite subject as well"
   ]
  },
  {
   "cell_type": "code",
   "execution_count": 10,
   "metadata": {},
   "outputs": [
    {
     "name": "stdout",
     "output_type": "stream",
     "text": [
      "Rasmi Thomas, 40, to learn coding\n",
      "Biotechnology and Bioinformatics\n"
     ]
    }
   ],
   "source": [
    "print(\"Rasmi Thomas, 40, to learn coding\")\n",
    "print(\"Biotechnology and Bioinformatics\")"
   ]
  },
  {
   "cell_type": "code",
   "execution_count": 11,
   "metadata": {},
   "outputs": [],
   "source": [
    "# EX 2 comment out the name of place you want to visit on the first line\n",
    "# proceed to print out why you want to visit that place below. Give me three sentences. \n",
    "# create in-line comments for one of those sentences"
   ]
  },
  {
   "cell_type": "code",
   "execution_count": 8,
   "metadata": {},
   "outputs": [
    {
     "name": "stdout",
     "output_type": "stream",
     "text": [
      "1. To see the pyramids\n",
      "2. To see the River Nile\n",
      "3. To enjoy the culture\n"
     ]
    }
   ],
   "source": [
    "#Egypt\n",
    "print(\"1. To see the pyramids\")\n",
    "print(\"2. To see the River Nile\") # Go on a river cruise\n",
    "print(\"3. To enjoy the culture\")"
   ]
  },
  {
   "cell_type": "raw",
   "metadata": {},
   "source": [
    "# EX 3 using one print statment, print out \"the answer to everything is 3\"\n",
    "# you must create the number three by adding two numbers together"
   ]
  },
  {
   "cell_type": "code",
   "execution_count": 9,
   "metadata": {},
   "outputs": [
    {
     "name": "stdout",
     "output_type": "stream",
     "text": [
      "the answer to anything is 3\n"
     ]
    },
    {
     "data": {
      "text/plain": [
       "3"
      ]
     },
     "execution_count": 9,
     "metadata": {},
     "output_type": "execute_result"
    }
   ],
   "source": [
    "print(\"the answer to anything is 3\")\n",
    "1+2"
   ]
  },
  {
   "cell_type": "raw",
   "metadata": {},
   "source": [
    "# EX 4 \n",
    "# print out the result of 20/3 to the nearest one using string format\n",
    "# print out the solution of 30 * 4.5\n",
    "# tell me what type of numbers are we using? What is the actual word? Comment it out"
   ]
  },
  {
   "cell_type": "code",
   "execution_count": 20,
   "metadata": {},
   "outputs": [
    {
     "name": "stdout",
     "output_type": "stream",
     "text": [
      "Subtotal: 6.7\n"
     ]
    },
    {
     "data": {
      "text/plain": [
       "135.0"
      ]
     },
     "execution_count": 20,
     "metadata": {},
     "output_type": "execute_result"
    }
   ],
   "source": [
    "x=20\n",
    "y=3\n",
    "print(f\"Subtotal: {x/y:.1f}\")\n",
    "30 * 4.5 # We are using float numbers"
   ]
  },
  {
   "cell_type": "code",
   "execution_count": 8,
   "metadata": {},
   "outputs": [
    {
     "name": "stdout",
     "output_type": "stream",
     "text": [
      "Hello\n",
      "Im only as smart as David because I'm reading.\n",
      "There are only 2 friends available to eat with you today\n",
      "Why don't we call Carly today?\n",
      "If they bring their partner then we need a table for CarlyCarly\n",
      "We need to arrive at la MC at what time?\n",
      "We have to be there at 5:30 PM or else O'Brien will say, \"I told you so\".\n"
     ]
    }
   ],
   "source": [
    "# EX 5 DEBUG THIS CODE TO MAKE IT WORK\n",
    "\n",
    "hello = \"Hello World\"\n",
    "noun = \"David\"\n",
    "number_of_friends = \"2\"\n",
    "name_of_friend = \"Carly\"\n",
    "location = \"la MC\"\n",
    "time = \"5:30 PM\"\n",
    "\n",
    "\n",
    "print(\"Hello\")\n",
    "print(\"Im only as smart as\", noun, \"because I'm reading.\")\n",
    "print(\"There are only\", number_of_friends, \"friends available to eat with you today\")\n",
    "print(\"Why don't we call\", name_of_friend, \"today?\")\n",
    "print(\"If they bring their partner then we need a table for\", name_of_friend*2)\n",
    "print(\"We need to arrive at\", location, \"at what time?\")\n",
    "print(\"We have to be there at\", time, \"or else O'Brien will say, \\\"I told you so\\\".\")"
   ]
  },
  {
   "cell_type": "raw",
   "metadata": {},
   "source": [
    "# EX 6 Take the fixed code and use the formatted strings instead of using so many commas to produce the same output."
   ]
  },
  {
   "cell_type": "code",
   "execution_count": 13,
   "metadata": {},
   "outputs": [
    {
     "name": "stdout",
     "output_type": "stream",
     "text": [
      "Hello\n",
      "Im only as smart as David because I'm reading.\n",
      "There are only 2 friends available to eat with you today\n",
      "Why don't we call Carly today?\n",
      "If they bring their partner then we need a table for CarlyCarly\n",
      "We need to arrive at la MC at what time?\n",
      "We have to be there at 5:30 PM or else O'Brien will say, \"I told you so\".\n"
     ]
    }
   ],
   "source": [
    "print(\"Hello\")\n",
    "print(\"Im only as smart as David because I'm reading.\")\n",
    "print(\"There are only 2 friends available to eat with you today\")\n",
    "print(\"Why don't we call Carly today?\")\n",
    "print(\"If they bring their partner then we need a table for CarlyCarly\")\n",
    "print(\"We need to arrive at la MC at what time?\")\n",
    "print(\"We have to be there at 5:30 PM or else O'Brien will say, \\\"I told you so\\\".\")"
   ]
  },
  {
   "cell_type": "raw",
   "metadata": {},
   "source": [
    "# EX 7 Please concatenate 2 sentences together and print them on one line.\n",
    "# print out \"print all of these lines for me 7 times please\" 7 times with one print statement\n",
    "# print out a statement with a single quote inside the double qoute saying I 'love' single quotes\n",
    "# print out a statement with a double quote inside the double quote saying I \"love\" double quotes"
   ]
  },
  {
   "cell_type": "code",
   "execution_count": 8,
   "metadata": {},
   "outputs": [
    {
     "name": "stdout",
     "output_type": "stream",
     "text": [
      "Python is fun and I am tired\n",
      "print all of these lines for me 7 times please\n",
      " print all of these lines for me 7 times please\n",
      " print all of these lines for me 7 times please\n",
      " print all of these lines for me 7 times please\n",
      " print all of these lines for me 7 times please\n",
      " print all of these lines for me 7 times please\n",
      " print all of these lines for me 7 times please\n",
      " \n",
      "I 'love' to sleep.\n",
      "I \"love\" to read.\n"
     ]
    }
   ],
   "source": [
    "a = \"Python is fun \"\n",
    "b = \"and I am tired\"\n",
    "print(a + b)\n",
    "\n",
    "c = \"print all of these lines for me 7 times please\\n \" #print next line\n",
    "print(c * 7)\n",
    "\n",
    "print(\"I \\'love\\' to sleep.\")\n",
    "\n",
    "print(\"I \\\"love\\\" to read.\")"
   ]
  },
  {
   "cell_type": "raw",
   "metadata": {},
   "source": [
    "# EX 8  Use one print function to print this statement on two lines: \"We are free. We are almost free.\n",
    "# print a block statement using one print function (give me 3 lines please)"
   ]
  },
  {
   "cell_type": "code",
   "execution_count": 118,
   "metadata": {},
   "outputs": [
    {
     "name": "stdout",
     "output_type": "stream",
     "text": [
      "We are free\n",
      "We are almost free\n",
      "Jack and Jill\n",
      "Went up the hill\n",
      "to fetch a pail of water\n"
     ]
    }
   ],
   "source": [
    "print(\"We are free\\nWe are almost free\")\n",
    "\n",
    "print(\"Jack and Jill\\nWent up the hill\\nto fetch a pail of water\")"
   ]
  },
  {
   "cell_type": "code",
   "execution_count": 75,
   "metadata": {},
   "outputs": [],
   "source": [
    "# EX 9 Use one print statement to print out \"apple pie\", using following variables\n",
    "ch1='a'\n",
    "ch2='e'\n",
    "ch3='i'\n",
    "ch4='o'\n",
    "ch5='u'\n",
    "ch6='l'\n",
    "ch7='p'"
   ]
  },
  {
   "cell_type": "code",
   "execution_count": 113,
   "metadata": {},
   "outputs": [
    {
     "name": "stdout",
     "output_type": "stream",
     "text": [
      "apple  pie\n"
     ]
    }
   ],
   "source": [
    "print(ch1+ ch7+ ch7+ ch6 + ch2, \"\", ch7+ ch3+ ch2)\n"
   ]
  },
  {
   "cell_type": "code",
   "execution_count": null,
   "metadata": {},
   "outputs": [],
   "source": []
  }
 ],
 "metadata": {
  "kernelspec": {
   "display_name": "Python 3 (ipykernel)",
   "language": "python",
   "name": "python3"
  },
  "language_info": {
   "codemirror_mode": {
    "name": "ipython",
    "version": 3
   },
   "file_extension": ".py",
   "mimetype": "text/x-python",
   "name": "python",
   "nbconvert_exporter": "python",
   "pygments_lexer": "ipython3",
   "version": "3.9.13"
  }
 },
 "nbformat": 4,
 "nbformat_minor": 2
}
